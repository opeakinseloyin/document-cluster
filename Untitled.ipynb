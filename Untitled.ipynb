{
 "cells": [
  {
   "cell_type": "code",
   "execution_count": 1,
   "id": "2315807d",
   "metadata": {},
   "outputs": [],
   "source": [
    "import pandas as pd\n",
    "import numpy as np\n",
    "import matplotlib.pyplot as plt"
   ]
  },
  {
   "cell_type": "code",
   "execution_count": 4,
   "id": "69aa6945",
   "metadata": {},
   "outputs": [],
   "source": [
    "import string\n",
    "import pandas as pd\n",
    "from nltk.corpus import stopwords\n",
    "from nltk.stem import PorterStemmer\n",
    "from nltk.tokenize import word_tokenize"
   ]
  },
  {
   "cell_type": "code",
   "execution_count": 2,
   "id": "9e34b434",
   "metadata": {},
   "outputs": [],
   "source": [
    "df = pd.read_csv('Book1.csv', encoding='utf-8')"
   ]
  },
  {
   "cell_type": "code",
   "execution_count": 3,
   "id": "b691be7f",
   "metadata": {},
   "outputs": [
    {
     "data": {
      "text/html": [
       "<div>\n",
       "<style scoped>\n",
       "    .dataframe tbody tr th:only-of-type {\n",
       "        vertical-align: middle;\n",
       "    }\n",
       "\n",
       "    .dataframe tbody tr th {\n",
       "        vertical-align: top;\n",
       "    }\n",
       "\n",
       "    .dataframe thead th {\n",
       "        text-align: right;\n",
       "    }\n",
       "</style>\n",
       "<table border=\"1\" class=\"dataframe\">\n",
       "  <thead>\n",
       "    <tr style=\"text-align: right;\">\n",
       "      <th></th>\n",
       "      <th>Type</th>\n",
       "      <th>Document</th>\n",
       "    </tr>\n",
       "  </thead>\n",
       "  <tbody>\n",
       "    <tr>\n",
       "      <th>0</th>\n",
       "      <td>Business</td>\n",
       "      <td>Shanghai Covid: Oil prices slide after city st...</td>\n",
       "    </tr>\n",
       "    <tr>\n",
       "      <th>1</th>\n",
       "      <td>Business</td>\n",
       "      <td>P&amp;O Ferries sackings: Ferry operators face min...</td>\n",
       "    </tr>\n",
       "    <tr>\n",
       "      <th>2</th>\n",
       "      <td>Business</td>\n",
       "      <td>Big regional divide on some energy bill charge...</td>\n",
       "    </tr>\n",
       "    <tr>\n",
       "      <th>3</th>\n",
       "      <td>Business</td>\n",
       "      <td>P&amp;O Ferries ship detained over crew training c...</td>\n",
       "    </tr>\n",
       "    <tr>\n",
       "      <th>4</th>\n",
       "      <td>Business</td>\n",
       "      <td>Uber granted two-and-a-half year licence to op...</td>\n",
       "    </tr>\n",
       "    <tr>\n",
       "      <th>...</th>\n",
       "      <td>...</td>\n",
       "      <td>...</td>\n",
       "    </tr>\n",
       "    <tr>\n",
       "      <th>220</th>\n",
       "      <td>Sports</td>\n",
       "      <td>Challenge Cup: Hull KR cling on to beat Leigh ...</td>\n",
       "    </tr>\n",
       "    <tr>\n",
       "      <th>221</th>\n",
       "      <td>Sports</td>\n",
       "      <td>Women's Rugby League World Cup: England call u...</td>\n",
       "    </tr>\n",
       "    <tr>\n",
       "      <th>222</th>\n",
       "      <td>Sports</td>\n",
       "      <td>Chevron Championship: England's Georgia Hall b...</td>\n",
       "    </tr>\n",
       "    <tr>\n",
       "      <th>223</th>\n",
       "      <td>Sports</td>\n",
       "      <td>World Match Play: Scottie Scheffler beats Kevi...</td>\n",
       "    </tr>\n",
       "    <tr>\n",
       "      <th>224</th>\n",
       "      <td>Sports</td>\n",
       "      <td>Qatar Masters: Scotland's Ewen Ferguson wins W...</td>\n",
       "    </tr>\n",
       "  </tbody>\n",
       "</table>\n",
       "<p>225 rows × 2 columns</p>\n",
       "</div>"
      ],
      "text/plain": [
       "         Type                                           Document\n",
       "0    Business  Shanghai Covid: Oil prices slide after city st...\n",
       "1    Business  P&O Ferries sackings: Ferry operators face min...\n",
       "2    Business  Big regional divide on some energy bill charge...\n",
       "3    Business  P&O Ferries ship detained over crew training c...\n",
       "4    Business  Uber granted two-and-a-half year licence to op...\n",
       "..        ...                                                ...\n",
       "220    Sports  Challenge Cup: Hull KR cling on to beat Leigh ...\n",
       "221    Sports  Women's Rugby League World Cup: England call u...\n",
       "222    Sports  Chevron Championship: England's Georgia Hall b...\n",
       "223    Sports  World Match Play: Scottie Scheffler beats Kevi...\n",
       "224    Sports  Qatar Masters: Scotland's Ewen Ferguson wins W...\n",
       "\n",
       "[225 rows x 2 columns]"
      ]
     },
     "execution_count": 3,
     "metadata": {},
     "output_type": "execute_result"
    }
   ],
   "source": [
    "df"
   ]
  },
  {
   "cell_type": "code",
   "execution_count": 5,
   "id": "b80daf67",
   "metadata": {},
   "outputs": [],
   "source": [
    "def preprocessor(text):\n",
    "    \"\"\" This function is used to pre-process text by removing punctuations, stopwords, stemming and tokenizing the text\"\"\"\n",
    "\n",
    "    stop_words = stopwords.words('english')\n",
    "    stemmer = PorterStemmer()\n",
    "    text = str(text)\n",
    "    text = text.lower()\n",
    "    strip_punctuation = str.maketrans('', '', string.punctuation)\n",
    "    text = text.translate(strip_punctuation)\n",
    "    text = word_tokenize(text)\n",
    "    new_word = \" \".join([(stemmer.stem(word)) for word in text if word not in stop_words])\n",
    "    return new_word"
   ]
  },
  {
   "cell_type": "code",
   "execution_count": 6,
   "id": "56410e7e",
   "metadata": {},
   "outputs": [],
   "source": [
    "text = df['Document'].iloc[200]"
   ]
  },
  {
   "cell_type": "code",
   "execution_count": 7,
   "id": "fcf50906",
   "metadata": {},
   "outputs": [
    {
     "data": {
      "text/plain": [
       "'Formula 1: One year since Murray Walker died\\nAn energetic, enthusiastic, sometimes \\'muddly\\' talker\\nIt\\'s just over a year since legendary commentator Murray Walker passed away, aged 97.\\nHe first broadcast on the airwaves way back in 1949, at the British Grand Prix, and became a full-time F1 commentator in 1978, retiring in 2001.\\nThroughout those years, he became the voice of the sport.\\n\"Murray garnered the respect normally reserved for drivers,\" says Maurice Hamilton, who has written a biography about the man.\\n\"Throughout the sixties, the only channel you could get motorsport coverage on was the BBC, so Murray was motorsport.\"\\nHamilton has been covering motorsport as a journalist since 1977 and has written multiple books about F1 teams and drivers, including Niki Lauda, Alain Prost, Ayrton Senna and James Hunt.\\nHamilton also worked for 20 years on BBC Radio 5 Live as a Formula 1 summariser and remembers being lucky enough to work with Walker. He describes it to us as like, \"going to work with your favourite uncle\".\\nHamilton\\'s book is packed with some of Walker\\'s most famous and delightful on-air blunders, or \\'Murrayisms\\'.\\nHere are some takeaways...\\nThe voice of F1\\nThe book opens with one of Walker\\'s most famous pieces of commentary, from the final laps of the 1986 Australian Grand Prix.\\n\"Rosberg out! Keke Rosberg! Out of the Australian Grand Prix! If this isn\\'t a sensation, I\\'d like to know what is.\"\\n\"And look at that! Colossally, that\\'s Mansell! That is Nigel Mansell. The car absolutely shatters. He\\'s fighting for control. You can see what\\'s happened. Now - this could change, and will change, the World Championship.\"\\n\"Either that car is stationary, or it\\'s on the move.\"\\nHamilton calls this piece of commentary, \"Murray in extremis.\"\\n\"The line, \\'colossally\\' - who even says that?\"\\nThe book is peppered with commentary from plenty of other memorable races too: the 1976 Japanese grand prix, where James Hunt sealed the championship; Suzuka \\'89, which determined that year\\'s World Championship in Alain Prost\\'s favour after he and his bitter rival Ayrton Senna both went off track; Imola \\'94, in which Senna was killed in an accident; Adelaide \\'94, where a controversial collision between Michael Schumacher and Damon Hill edged the title in favour of the former…\\n\"I thought to myself, \\'what is the essence of Murray Walker?\\',\" Hamilton explains, adding, \"It\\'s the commentary. I realised that we weren\\'t going to have his voice in the book, but that I could get as near as possible by putting commentary in.\"\\n\"Damon Hill is leading. Behind him are the second and third men.\"\\nHis universal appeal\\nOne story within the book - an anecdote shared by former FIA president Max Mosley - illustrates the kind of wide appeal that Walker had.\\nMosley describes being at the 1993 grand prix in South Africa, where there were lots of dignitaries from the government and the ANC (African National congress) present - one of whom was the now-current president of South Africa, Cyril Ramaphosa. Mosley asked Ramaphosa whether there was anyone he might like to meet, expecting him to suggest someone like Ayrton Senna.\\n\"And Mansell is slowing down. He is definitely taking it easy. Oh no he isn\\'t - that was a lap record\"\\n\"He said Murray Walker! We went into the press room together and stood in front of Murray\\'s desk, where he was writing. I introduced Ramaphosa to him. Murray seemed as surprised as I was but, of course, he was absolutely charming and Mr Ramaphosa was delighted!\"\\nA difficult relationship\\nOne man whom Walker didn\\'t rub along with quite so well, at least initially, was James Hunt.\\nHunt was a former Formula 1 Champion and went on to form a very successful commentary partnership with Walker on the BBC from 1980 until his tragic death in 1993, aged 45.\\nHowever, when Hunt was first introduced, Hamilton says that Walker was concerned the BBC were trying to, \"ease him out\".\\nThere are quotes within the book describing how Walker first received his commentary partner.\\n\"My thoughts were: He may be a world champion racing driver, and a very good world champion racing driver, but what on Earth does he know about commentating? And, what\\'s more, I didn\\'t particularly like him as a person. I was old enough to be his father. My views on life were diametrically opposed to his. I was a pretty plonking straightforward up-and-down bloke and here I was with this booze-swilling, cigarette-smoking, womanizing, drug-taking chap who I associated with rudeness and being objectionable.\"\\nMurray the \\'muddly talker\\'\\n\"Do my eyes deceive me, or is Senna\\'s car sounding a bit rough?\"\\nFor someone so studious and knowledgeable, Walker had an incredible knack for making some very entertaining mistakes during his commentary.\\n\"The Murrayisms are such an integral part of him,\" Hamilton observes. \"We waited for them and loved it when they happened.\"\\nFor Hamilton, this was just symptomatic of a mind too full of information. He remembers seeing Walker\\'s commentary box, \"festooned with notes\".\\n\"During the race, something would occur that would trigger a thought and he had to get that out to you. In his enthusiasm to do that, he would sometimes trip over his words and make mistakes.\"'"
      ]
     },
     "execution_count": 7,
     "metadata": {},
     "output_type": "execute_result"
    }
   ],
   "source": [
    "text"
   ]
  },
  {
   "cell_type": "code",
   "execution_count": 8,
   "id": "489af86e",
   "metadata": {},
   "outputs": [],
   "source": [
    "df['new'] = df['Document'].apply(preprocessor)"
   ]
  },
  {
   "cell_type": "code",
   "execution_count": 9,
   "id": "6a269e35",
   "metadata": {},
   "outputs": [],
   "source": [
    "document = df['new'].values.astype('U')"
   ]
  },
  {
   "cell_type": "code",
   "execution_count": 10,
   "id": "be69d4b0",
   "metadata": {},
   "outputs": [],
   "source": [
    "from sklearn.feature_extraction.text import TfidfVectorizer\n",
    "from sklearn.cluster import KMeans"
   ]
  },
  {
   "cell_type": "code",
   "execution_count": 11,
   "id": "6e139b98",
   "metadata": {},
   "outputs": [],
   "source": [
    "vectorizer = TfidfVectorizer() "
   ]
  },
  {
   "cell_type": "code",
   "execution_count": 12,
   "id": "04c1a1b8",
   "metadata": {},
   "outputs": [],
   "source": [
    "X = vectorizer.fit_transform(document)"
   ]
  },
  {
   "cell_type": "code",
   "execution_count": 13,
   "id": "0a5bc52d",
   "metadata": {},
   "outputs": [],
   "source": [
    "model = KMeans(n_clusters=3, random_state=101)"
   ]
  },
  {
   "cell_type": "code",
   "execution_count": 14,
   "id": "aa66b81e",
   "metadata": {},
   "outputs": [
    {
     "data": {
      "text/plain": [
       "KMeans(n_clusters=3, random_state=101)"
      ]
     },
     "execution_count": 14,
     "metadata": {},
     "output_type": "execute_result"
    }
   ],
   "source": [
    "model.fit(X)"
   ]
  },
  {
   "cell_type": "code",
   "execution_count": 15,
   "id": "3a935132",
   "metadata": {},
   "outputs": [],
   "source": [
    "df['clusters'] = model.labels_"
   ]
  },
  {
   "cell_type": "code",
   "execution_count": 16,
   "id": "134ca1af",
   "metadata": {},
   "outputs": [
    {
     "data": {
      "text/html": [
       "<div>\n",
       "<style scoped>\n",
       "    .dataframe tbody tr th:only-of-type {\n",
       "        vertical-align: middle;\n",
       "    }\n",
       "\n",
       "    .dataframe tbody tr th {\n",
       "        vertical-align: top;\n",
       "    }\n",
       "\n",
       "    .dataframe thead th {\n",
       "        text-align: right;\n",
       "    }\n",
       "</style>\n",
       "<table border=\"1\" class=\"dataframe\">\n",
       "  <thead>\n",
       "    <tr style=\"text-align: right;\">\n",
       "      <th></th>\n",
       "      <th>Type</th>\n",
       "      <th>Document</th>\n",
       "      <th>new</th>\n",
       "      <th>clusters</th>\n",
       "    </tr>\n",
       "  </thead>\n",
       "  <tbody>\n",
       "    <tr>\n",
       "      <th>0</th>\n",
       "      <td>Business</td>\n",
       "      <td>Shanghai Covid: Oil prices slide after city st...</td>\n",
       "      <td>shanghai covid oil price slide citi start lock...</td>\n",
       "      <td>2</td>\n",
       "    </tr>\n",
       "    <tr>\n",
       "      <th>1</th>\n",
       "      <td>Business</td>\n",
       "      <td>P&amp;O Ferries sackings: Ferry operators face min...</td>\n",
       "      <td>po ferri sack ferri oper face minimum wage law...</td>\n",
       "      <td>2</td>\n",
       "    </tr>\n",
       "    <tr>\n",
       "      <th>2</th>\n",
       "      <td>Business</td>\n",
       "      <td>Big regional divide on some energy bill charge...</td>\n",
       "      <td>big region divid energi bill charg sharp rise ...</td>\n",
       "      <td>2</td>\n",
       "    </tr>\n",
       "    <tr>\n",
       "      <th>3</th>\n",
       "      <td>Business</td>\n",
       "      <td>P&amp;O Ferries ship detained over crew training c...</td>\n",
       "      <td>po ferri ship detain crew train concern po fer...</td>\n",
       "      <td>2</td>\n",
       "    </tr>\n",
       "    <tr>\n",
       "      <th>4</th>\n",
       "      <td>Business</td>\n",
       "      <td>Uber granted two-and-a-half year licence to op...</td>\n",
       "      <td>uber grant twoandahalf year licenc oper london...</td>\n",
       "      <td>2</td>\n",
       "    </tr>\n",
       "    <tr>\n",
       "      <th>...</th>\n",
       "      <td>...</td>\n",
       "      <td>...</td>\n",
       "      <td>...</td>\n",
       "      <td>...</td>\n",
       "    </tr>\n",
       "    <tr>\n",
       "      <th>220</th>\n",
       "      <td>Sports</td>\n",
       "      <td>Challenge Cup: Hull KR cling on to beat Leigh ...</td>\n",
       "      <td>challeng cup hull kr cling beat leigh centurio...</td>\n",
       "      <td>1</td>\n",
       "    </tr>\n",
       "    <tr>\n",
       "      <th>221</th>\n",
       "      <td>Sports</td>\n",
       "      <td>Women's Rugby League World Cup: England call u...</td>\n",
       "      <td>women rugbi leagu world cup england call court...</td>\n",
       "      <td>1</td>\n",
       "    </tr>\n",
       "    <tr>\n",
       "      <th>222</th>\n",
       "      <td>Sports</td>\n",
       "      <td>Chevron Championship: England's Georgia Hall b...</td>\n",
       "      <td>chevron championship england georgia hall buoy...</td>\n",
       "      <td>1</td>\n",
       "    </tr>\n",
       "    <tr>\n",
       "      <th>223</th>\n",
       "      <td>Sports</td>\n",
       "      <td>World Match Play: Scottie Scheffler beats Kevi...</td>\n",
       "      <td>world match play scotti scheffler beat kevin k...</td>\n",
       "      <td>1</td>\n",
       "    </tr>\n",
       "    <tr>\n",
       "      <th>224</th>\n",
       "      <td>Sports</td>\n",
       "      <td>Qatar Masters: Scotland's Ewen Ferguson wins W...</td>\n",
       "      <td>qatar master scotland ewen ferguson win world ...</td>\n",
       "      <td>1</td>\n",
       "    </tr>\n",
       "  </tbody>\n",
       "</table>\n",
       "<p>225 rows × 4 columns</p>\n",
       "</div>"
      ],
      "text/plain": [
       "         Type                                           Document  \\\n",
       "0    Business  Shanghai Covid: Oil prices slide after city st...   \n",
       "1    Business  P&O Ferries sackings: Ferry operators face min...   \n",
       "2    Business  Big regional divide on some energy bill charge...   \n",
       "3    Business  P&O Ferries ship detained over crew training c...   \n",
       "4    Business  Uber granted two-and-a-half year licence to op...   \n",
       "..        ...                                                ...   \n",
       "220    Sports  Challenge Cup: Hull KR cling on to beat Leigh ...   \n",
       "221    Sports  Women's Rugby League World Cup: England call u...   \n",
       "222    Sports  Chevron Championship: England's Georgia Hall b...   \n",
       "223    Sports  World Match Play: Scottie Scheffler beats Kevi...   \n",
       "224    Sports  Qatar Masters: Scotland's Ewen Ferguson wins W...   \n",
       "\n",
       "                                                   new  clusters  \n",
       "0    shanghai covid oil price slide citi start lock...         2  \n",
       "1    po ferri sack ferri oper face minimum wage law...         2  \n",
       "2    big region divid energi bill charg sharp rise ...         2  \n",
       "3    po ferri ship detain crew train concern po fer...         2  \n",
       "4    uber grant twoandahalf year licenc oper london...         2  \n",
       "..                                                 ...       ...  \n",
       "220  challeng cup hull kr cling beat leigh centurio...         1  \n",
       "221  women rugbi leagu world cup england call court...         1  \n",
       "222  chevron championship england georgia hall buoy...         1  \n",
       "223  world match play scotti scheffler beat kevin k...         1  \n",
       "224  qatar master scotland ewen ferguson win world ...         1  \n",
       "\n",
       "[225 rows x 4 columns]"
      ]
     },
     "execution_count": 16,
     "metadata": {},
     "output_type": "execute_result"
    }
   ],
   "source": [
    "df"
   ]
  },
  {
   "cell_type": "code",
   "execution_count": 17,
   "id": "06a301ef",
   "metadata": {},
   "outputs": [
    {
     "data": {
      "text/html": [
       "<div>\n",
       "<style scoped>\n",
       "    .dataframe tbody tr th:only-of-type {\n",
       "        vertical-align: middle;\n",
       "    }\n",
       "\n",
       "    .dataframe tbody tr th {\n",
       "        vertical-align: top;\n",
       "    }\n",
       "\n",
       "    .dataframe thead th {\n",
       "        text-align: right;\n",
       "    }\n",
       "</style>\n",
       "<table border=\"1\" class=\"dataframe\">\n",
       "  <thead>\n",
       "    <tr style=\"text-align: right;\">\n",
       "      <th></th>\n",
       "      <th>Type</th>\n",
       "      <th>Document</th>\n",
       "      <th>new</th>\n",
       "      <th>clusters</th>\n",
       "    </tr>\n",
       "  </thead>\n",
       "  <tbody>\n",
       "    <tr>\n",
       "      <th>22</th>\n",
       "      <td>Business</td>\n",
       "      <td>Data protection 'shake-up' takes aim at cookie...</td>\n",
       "      <td>data protect shakeup take aim cooki popup uk n...</td>\n",
       "      <td>0</td>\n",
       "    </tr>\n",
       "    <tr>\n",
       "      <th>33</th>\n",
       "      <td>Business</td>\n",
       "      <td>Why phone scams are so difficult to tackle\\nPh...</td>\n",
       "      <td>phone scam difficult tackl phone fraud soar pa...</td>\n",
       "      <td>0</td>\n",
       "    </tr>\n",
       "    <tr>\n",
       "      <th>57</th>\n",
       "      <td>Business</td>\n",
       "      <td>Israeli startup to test brain-activity gear on...</td>\n",
       "      <td>isra startup test brainact gear space mission ...</td>\n",
       "      <td>0</td>\n",
       "    </tr>\n",
       "    <tr>\n",
       "      <th>75</th>\n",
       "      <td>Science</td>\n",
       "      <td>Lithium mining may be putting some flamingos i...</td>\n",
       "      <td>lithium mine may put flamingo chile risk quest...</td>\n",
       "      <td>0</td>\n",
       "    </tr>\n",
       "    <tr>\n",
       "      <th>76</th>\n",
       "      <td>Science</td>\n",
       "      <td>Some E. coli set off viral grenades inside nea...</td>\n",
       "      <td>e coli set viral grenad insid nearbi bacteria ...</td>\n",
       "      <td>0</td>\n",
       "    </tr>\n",
       "    <tr>\n",
       "      <th>...</th>\n",
       "      <td>...</td>\n",
       "      <td>...</td>\n",
       "      <td>...</td>\n",
       "      <td>...</td>\n",
       "    </tr>\n",
       "    <tr>\n",
       "      <th>145</th>\n",
       "      <td>Science</td>\n",
       "      <td>Genes point to how some bacteria can gobble up...</td>\n",
       "      <td>gene point bacteria gobbl electr research hope...</td>\n",
       "      <td>0</td>\n",
       "    </tr>\n",
       "    <tr>\n",
       "      <th>146</th>\n",
       "      <td>Science</td>\n",
       "      <td>Scientists Say: Silicon\\nSilicon is one of the...</td>\n",
       "      <td>scientist say silicon silicon one abund — use ...</td>\n",
       "      <td>0</td>\n",
       "    </tr>\n",
       "    <tr>\n",
       "      <th>147</th>\n",
       "      <td>Science</td>\n",
       "      <td>Explainer: Calculating a star’s age\\nThis is o...</td>\n",
       "      <td>explain calcul star ’ age one thing best left ...</td>\n",
       "      <td>0</td>\n",
       "    </tr>\n",
       "    <tr>\n",
       "      <th>148</th>\n",
       "      <td>Science</td>\n",
       "      <td>More than 9,000 tree species may be waiting to...</td>\n",
       "      <td>9000 tree speci may wait discov mani probabl r...</td>\n",
       "      <td>0</td>\n",
       "    </tr>\n",
       "    <tr>\n",
       "      <th>149</th>\n",
       "      <td>Science</td>\n",
       "      <td>Patterns in brain activity can identify who wi...</td>\n",
       "      <td>pattern brain activ identifi struggl read diag...</td>\n",
       "      <td>0</td>\n",
       "    </tr>\n",
       "  </tbody>\n",
       "</table>\n",
       "<p>77 rows × 4 columns</p>\n",
       "</div>"
      ],
      "text/plain": [
       "         Type                                           Document  \\\n",
       "22   Business  Data protection 'shake-up' takes aim at cookie...   \n",
       "33   Business  Why phone scams are so difficult to tackle\\nPh...   \n",
       "57   Business  Israeli startup to test brain-activity gear on...   \n",
       "75    Science  Lithium mining may be putting some flamingos i...   \n",
       "76    Science  Some E. coli set off viral grenades inside nea...   \n",
       "..        ...                                                ...   \n",
       "145   Science  Genes point to how some bacteria can gobble up...   \n",
       "146   Science  Scientists Say: Silicon\\nSilicon is one of the...   \n",
       "147   Science  Explainer: Calculating a star’s age\\nThis is o...   \n",
       "148   Science  More than 9,000 tree species may be waiting to...   \n",
       "149   Science  Patterns in brain activity can identify who wi...   \n",
       "\n",
       "                                                   new  clusters  \n",
       "22   data protect shakeup take aim cooki popup uk n...         0  \n",
       "33   phone scam difficult tackl phone fraud soar pa...         0  \n",
       "57   isra startup test brainact gear space mission ...         0  \n",
       "75   lithium mine may put flamingo chile risk quest...         0  \n",
       "76   e coli set viral grenad insid nearbi bacteria ...         0  \n",
       "..                                                 ...       ...  \n",
       "145  gene point bacteria gobbl electr research hope...         0  \n",
       "146  scientist say silicon silicon one abund — use ...         0  \n",
       "147  explain calcul star ’ age one thing best left ...         0  \n",
       "148  9000 tree speci may wait discov mani probabl r...         0  \n",
       "149  pattern brain activ identifi struggl read diag...         0  \n",
       "\n",
       "[77 rows x 4 columns]"
      ]
     },
     "execution_count": 17,
     "metadata": {},
     "output_type": "execute_result"
    }
   ],
   "source": [
    "df[df['clusters'] == 0]"
   ]
  },
  {
   "cell_type": "code",
   "execution_count": 18,
   "id": "04308dfc",
   "metadata": {},
   "outputs": [
    {
     "data": {
      "text/plain": [
       "array([2, 2, 2, 2, 2, 2, 2, 2, 2, 2, 2, 2, 2, 2, 2, 2, 2, 2, 2, 2, 2, 2,\n",
       "       0, 2, 2, 2, 2, 2, 2, 2, 2, 2, 2, 0, 2, 2, 2, 2, 2, 2, 2, 2, 2, 2,\n",
       "       2, 2, 2, 2, 2, 2, 2, 2, 2, 2, 2, 2, 2, 0, 2, 2, 2, 2, 2, 2, 2, 2,\n",
       "       2, 2, 2, 2, 2, 2, 2, 2, 2, 0, 0, 0, 0, 0, 0, 0, 0, 0, 0, 0, 0, 0,\n",
       "       2, 0, 0, 0, 0, 0, 0, 0, 0, 0, 0, 0, 0, 0, 0, 0, 0, 0, 0, 0, 0, 0,\n",
       "       0, 0, 0, 0, 0, 0, 0, 0, 0, 0, 0, 0, 0, 0, 0, 0, 0, 0, 0, 0, 0, 0,\n",
       "       0, 0, 0, 0, 0, 0, 0, 0, 0, 0, 0, 0, 0, 0, 0, 0, 0, 0, 1, 1, 1, 1,\n",
       "       1, 1, 1, 1, 1, 1, 1, 1, 1, 1, 1, 1, 1, 2, 1, 1, 1, 1, 1, 1, 1, 1,\n",
       "       1, 1, 1, 1, 1, 1, 1, 1, 1, 1, 1, 1, 1, 1, 1, 2, 1, 1, 1, 1, 1, 1,\n",
       "       1, 1, 1, 1, 1, 2, 1, 1, 1, 1, 1, 1, 1, 1, 1, 1, 1, 1, 1, 1, 1, 1,\n",
       "       1, 1, 1, 1, 1])"
      ]
     },
     "execution_count": 18,
     "metadata": {},
     "output_type": "execute_result"
    }
   ],
   "source": [
    "model.labels_"
   ]
  },
  {
   "cell_type": "code",
   "execution_count": 19,
   "id": "d2f1dc42",
   "metadata": {},
   "outputs": [
    {
     "data": {
      "text/html": [
       "<div>\n",
       "<style scoped>\n",
       "    .dataframe tbody tr th:only-of-type {\n",
       "        vertical-align: middle;\n",
       "    }\n",
       "\n",
       "    .dataframe tbody tr th {\n",
       "        vertical-align: top;\n",
       "    }\n",
       "\n",
       "    .dataframe thead th {\n",
       "        text-align: right;\n",
       "    }\n",
       "</style>\n",
       "<table border=\"1\" class=\"dataframe\">\n",
       "  <thead>\n",
       "    <tr style=\"text-align: right;\">\n",
       "      <th></th>\n",
       "      <th>Type</th>\n",
       "      <th>Document</th>\n",
       "      <th>new</th>\n",
       "      <th>clusters</th>\n",
       "    </tr>\n",
       "  </thead>\n",
       "  <tbody>\n",
       "    <tr>\n",
       "      <th>0</th>\n",
       "      <td>Business</td>\n",
       "      <td>Shanghai Covid: Oil prices slide after city st...</td>\n",
       "      <td>shanghai covid oil price slide citi start lock...</td>\n",
       "      <td>2</td>\n",
       "    </tr>\n",
       "    <tr>\n",
       "      <th>1</th>\n",
       "      <td>Business</td>\n",
       "      <td>P&amp;O Ferries sackings: Ferry operators face min...</td>\n",
       "      <td>po ferri sack ferri oper face minimum wage law...</td>\n",
       "      <td>2</td>\n",
       "    </tr>\n",
       "    <tr>\n",
       "      <th>2</th>\n",
       "      <td>Business</td>\n",
       "      <td>Big regional divide on some energy bill charge...</td>\n",
       "      <td>big region divid energi bill charg sharp rise ...</td>\n",
       "      <td>2</td>\n",
       "    </tr>\n",
       "    <tr>\n",
       "      <th>3</th>\n",
       "      <td>Business</td>\n",
       "      <td>P&amp;O Ferries ship detained over crew training c...</td>\n",
       "      <td>po ferri ship detain crew train concern po fer...</td>\n",
       "      <td>2</td>\n",
       "    </tr>\n",
       "    <tr>\n",
       "      <th>4</th>\n",
       "      <td>Business</td>\n",
       "      <td>Uber granted two-and-a-half year licence to op...</td>\n",
       "      <td>uber grant twoandahalf year licenc oper london...</td>\n",
       "      <td>2</td>\n",
       "    </tr>\n",
       "    <tr>\n",
       "      <th>...</th>\n",
       "      <td>...</td>\n",
       "      <td>...</td>\n",
       "      <td>...</td>\n",
       "      <td>...</td>\n",
       "    </tr>\n",
       "    <tr>\n",
       "      <th>70</th>\n",
       "      <td>Business</td>\n",
       "      <td>Take Five: A quarter to forget\\nMarch 25 (Reut...</td>\n",
       "      <td>take five quarter forget march 25 reuter tumul...</td>\n",
       "      <td>2</td>\n",
       "    </tr>\n",
       "    <tr>\n",
       "      <th>71</th>\n",
       "      <td>Business</td>\n",
       "      <td>German first-quarter dealmaking slides to six-...</td>\n",
       "      <td>german firstquart dealmak slide sixyear low du...</td>\n",
       "      <td>2</td>\n",
       "    </tr>\n",
       "    <tr>\n",
       "      <th>72</th>\n",
       "      <td>Business</td>\n",
       "      <td>NatWest returns to majority private control as...</td>\n",
       "      <td>natwest return major privat control buy back £...</td>\n",
       "      <td>2</td>\n",
       "    </tr>\n",
       "    <tr>\n",
       "      <th>73</th>\n",
       "      <td>Business</td>\n",
       "      <td>Bank of England expects UK energy shock on the...</td>\n",
       "      <td>bank england expect uk energi shock scale 1970...</td>\n",
       "      <td>2</td>\n",
       "    </tr>\n",
       "    <tr>\n",
       "      <th>74</th>\n",
       "      <td>Business</td>\n",
       "      <td>\\nSunak learns hard way UK public don’t want a...</td>\n",
       "      <td>sunak learn hard way uk public ’ want osborn r...</td>\n",
       "      <td>2</td>\n",
       "    </tr>\n",
       "  </tbody>\n",
       "</table>\n",
       "<p>75 rows × 4 columns</p>\n",
       "</div>"
      ],
      "text/plain": [
       "        Type                                           Document  \\\n",
       "0   Business  Shanghai Covid: Oil prices slide after city st...   \n",
       "1   Business  P&O Ferries sackings: Ferry operators face min...   \n",
       "2   Business  Big regional divide on some energy bill charge...   \n",
       "3   Business  P&O Ferries ship detained over crew training c...   \n",
       "4   Business  Uber granted two-and-a-half year licence to op...   \n",
       "..       ...                                                ...   \n",
       "70  Business  Take Five: A quarter to forget\\nMarch 25 (Reut...   \n",
       "71  Business  German first-quarter dealmaking slides to six-...   \n",
       "72  Business  NatWest returns to majority private control as...   \n",
       "73  Business  Bank of England expects UK energy shock on the...   \n",
       "74  Business  \\nSunak learns hard way UK public don’t want a...   \n",
       "\n",
       "                                                  new  clusters  \n",
       "0   shanghai covid oil price slide citi start lock...         2  \n",
       "1   po ferri sack ferri oper face minimum wage law...         2  \n",
       "2   big region divid energi bill charg sharp rise ...         2  \n",
       "3   po ferri ship detain crew train concern po fer...         2  \n",
       "4   uber grant twoandahalf year licenc oper london...         2  \n",
       "..                                                ...       ...  \n",
       "70  take five quarter forget march 25 reuter tumul...         2  \n",
       "71  german firstquart dealmak slide sixyear low du...         2  \n",
       "72  natwest return major privat control buy back £...         2  \n",
       "73  bank england expect uk energi shock scale 1970...         2  \n",
       "74  sunak learn hard way uk public ’ want osborn r...         2  \n",
       "\n",
       "[75 rows x 4 columns]"
      ]
     },
     "execution_count": 19,
     "metadata": {},
     "output_type": "execute_result"
    }
   ],
   "source": [
    "df[(df['Type'] == 'Business') & (df['clusters'] != 1)]"
   ]
  },
  {
   "cell_type": "code",
   "execution_count": 20,
   "id": "d411b97c",
   "metadata": {
    "scrolled": true
   },
   "outputs": [
    {
     "name": "stdout",
     "output_type": "stream",
     "text": [
      "Cluster centroids: \n",
      "\n",
      "Cluster 0:\n",
      " research\n",
      " say\n",
      " star\n",
      " data\n",
      " univers\n",
      " cell\n",
      " space\n",
      " earth\n",
      " brain\n",
      " use\n",
      "------------\n",
      "Cluster 1:\n",
      " world\n",
      " win\n",
      " play\n",
      " cup\n",
      " open\n",
      " race\n",
      " barti\n",
      " game\n",
      " england\n",
      " player\n",
      "------------\n",
      "Cluster 2:\n",
      " said\n",
      " compani\n",
      " price\n",
      " bank\n",
      " busi\n",
      " market\n",
      " russia\n",
      " uk\n",
      " year\n",
      " po\n",
      "------------\n"
     ]
    },
    {
     "name": "stderr",
     "output_type": "stream",
     "text": [
      "C:\\Users\\USER\\anaconda3\\lib\\site-packages\\sklearn\\utils\\deprecation.py:87: FutureWarning: Function get_feature_names is deprecated; get_feature_names is deprecated in 1.0 and will be removed in 1.2. Please use get_feature_names_out instead.\n",
      "  warnings.warn(msg, category=FutureWarning)\n"
     ]
    }
   ],
   "source": [
    "\n",
    "print(\"Cluster centroids: \\n\")\n",
    "order_centroids = model.cluster_centers_.argsort()[:, ::-1]\n",
    "terms = vectorizer.get_feature_names()\n",
    "\n",
    "for i in range(3):\n",
    "    print(\"Cluster %d:\" % i)\n",
    "    for j in order_centroids[i, :10]: #print out 10 feature terms of each cluster\n",
    "        print (' %s' % terms[j])\n",
    "    print('------------')"
   ]
  },
  {
   "cell_type": "code",
   "execution_count": 21,
   "id": "cea23438",
   "metadata": {},
   "outputs": [],
   "source": [
    "from sklearn.metrics.cluster import rand_score"
   ]
  },
  {
   "cell_type": "code",
   "execution_count": 22,
   "id": "d414e5de",
   "metadata": {},
   "outputs": [],
   "source": [
    "act = [2, 2, 2, 2, 2, 2, 2, 2, 2, 2, 2, 2, 2, 2, 2, 2, 2, 2, 2, 2, 2, 2,\n",
    "       2, 2, 2, 2, 2, 2, 2, 2, 2, 2, 2, 2, 2, 2, 2, 2, 2, 2, 2, 2, 2, 2,\n",
    "       2, 2, 2, 2, 2, 2, 2, 2, 2, 2, 2, 2, 2, 0, 2, 2, 2, 2, 2, 2, 2, 2,\n",
    "       2, 2, 2, 2, 2, 2, 2, 2, 2, 0, 0, 0, 0, 0, 0, 0, 0, 0, 0, 0, 0, 0,\n",
    "       0, 0, 0, 0, 0, 0, 0, 0, 0, 0, 0, 0, 0, 0, 0, 0, 0, 0, 0, 0, 0, 0,\n",
    "       0, 0, 0, 0, 0, 0, 0, 0, 0, 0, 0, 0, 0, 0, 0, 0, 0, 0, 0, 0, 0, 0,\n",
    "       0, 0, 0, 0, 0, 0, 0, 0, 0, 0, 0, 0, 0, 0, 0, 0, 0, 0, 1, 1, 1, 1,\n",
    "       1, 1, 1, 1, 1, 1, 1, 1, 1, 1, 1, 1, 1, 1, 1, 1, 1, 1, 1, 1, 1, 1,\n",
    "       1, 1, 1, 1, 1, 1, 1, 1, 1, 1, 1, 1, 1, 1, 1, 1, 1, 1, 1, 1, 1, 1,\n",
    "       1, 1, 1, 1, 1, 1, 1, 1, 1, 1, 1, 1, 1, 1, 1, 1, 1, 1, 1, 1, 1, 1,\n",
    "       1, 1, 1, 1, 1]"
   ]
  },
  {
   "cell_type": "code",
   "execution_count": 31,
   "id": "44f94893",
   "metadata": {},
   "outputs": [
    {
     "data": {
      "text/plain": [
       "0.9652380952380952"
      ]
     },
     "execution_count": 31,
     "metadata": {},
     "output_type": "execute_result"
    }
   ],
   "source": [
    " rand_score(act, model.labels_)"
   ]
  },
  {
   "cell_type": "code",
   "execution_count": 25,
   "id": "a6a6a7bf",
   "metadata": {},
   "outputs": [
    {
     "data": {
      "text/plain": [
       "array([0, 0, 0, 0, 0, 0, 0, 0, 0, 0, 0, 0, 0, 2, 0, 0, 0, 0, 0, 0, 0, 0,\n",
       "       0, 0, 0, 0, 0, 0, 0, 0, 0, 0, 0, 0, 0, 0, 0, 0, 0, 0, 0, 0, 0, 0,\n",
       "       0, 0, 0, 0, 0, 0, 0, 0, 0, 0, 0, 0, 0, 0, 0, 0, 0, 0, 0, 0, 0, 0,\n",
       "       0, 0, 0, 0, 0, 0, 0, 0, 0])"
      ]
     },
     "execution_count": 25,
     "metadata": {},
     "output_type": "execute_result"
    }
   ],
   "source": [
    "model.labels_[75:150]"
   ]
  },
  {
   "cell_type": "code",
   "execution_count": 26,
   "id": "9e61f540",
   "metadata": {},
   "outputs": [
    {
     "data": {
      "text/plain": [
       "array([1, 1, 1, 1, 1, 1, 1, 1, 1, 1, 1, 1, 1, 1, 1, 1, 1, 2, 1, 1, 1, 1,\n",
       "       1, 1, 1, 1, 1, 1, 1, 1, 1, 1, 1, 1, 1, 1, 1, 1, 1, 1, 1, 2, 1, 1,\n",
       "       1, 1, 1, 1, 1, 1, 1, 1, 1, 2, 1, 1, 1, 1, 1, 1, 1, 1, 1, 1, 1, 1,\n",
       "       1, 1, 1, 1, 1, 1, 1, 1, 1])"
      ]
     },
     "execution_count": 26,
     "metadata": {},
     "output_type": "execute_result"
    }
   ],
   "source": [
    "model.labels_[150:]"
   ]
  },
  {
   "cell_type": "code",
   "execution_count": 27,
   "id": "fc44c19f",
   "metadata": {},
   "outputs": [],
   "source": [
    "purity = (72 + 74 + 72)/225"
   ]
  },
  {
   "cell_type": "code",
   "execution_count": 28,
   "id": "71d46e1c",
   "metadata": {},
   "outputs": [
    {
     "data": {
      "text/plain": [
       "0.9688888888888889"
      ]
     },
     "execution_count": 28,
     "metadata": {},
     "output_type": "execute_result"
    }
   ],
   "source": [
    "purity"
   ]
  },
  {
   "cell_type": "code",
   "execution_count": 29,
   "id": "5d2fc060",
   "metadata": {},
   "outputs": [
    {
     "data": {
      "text/plain": [
       "['model.joblib']"
      ]
     },
     "execution_count": 29,
     "metadata": {},
     "output_type": "execute_result"
    }
   ],
   "source": [
    "from joblib import dump, load\n",
    "\n",
    "dump(model, 'model.joblib')"
   ]
  },
  {
   "cell_type": "code",
   "execution_count": 30,
   "id": "056ddb24",
   "metadata": {},
   "outputs": [
    {
     "data": {
      "text/plain": [
       "array([2, 2, 2, 2, 2, 2, 2, 2, 2, 2, 2, 2, 2, 2, 2, 2, 2, 2, 2, 2, 2, 2,\n",
       "       0, 2, 2, 2, 2, 2, 2, 2, 2, 2, 2, 0, 2, 2, 2, 2, 2, 2, 2, 2, 2, 2,\n",
       "       2, 2, 2, 2, 2, 2, 2, 2, 2, 2, 2, 2, 2, 0, 2, 2, 2, 2, 2, 2, 2, 2,\n",
       "       2, 2, 2, 2, 2, 2, 2, 2, 2, 0, 0, 0, 0, 0, 0, 0, 0, 0, 0, 0, 0, 0,\n",
       "       2, 0, 0, 0, 0, 0, 0, 0, 0, 0, 0, 0, 0, 0, 0, 0, 0, 0, 0, 0, 0, 0,\n",
       "       0, 0, 0, 0, 0, 0, 0, 0, 0, 0, 0, 0, 0, 0, 0, 0, 0, 0, 0, 0, 0, 0,\n",
       "       0, 0, 0, 0, 0, 0, 0, 0, 0, 0, 0, 0, 0, 0, 0, 0, 0, 0, 1, 1, 1, 1,\n",
       "       1, 1, 1, 1, 1, 1, 1, 1, 1, 1, 1, 1, 1, 2, 1, 1, 1, 1, 1, 1, 1, 1,\n",
       "       1, 1, 1, 1, 1, 1, 1, 1, 1, 1, 1, 1, 1, 1, 1, 2, 1, 1, 1, 1, 1, 1,\n",
       "       1, 1, 1, 1, 1, 2, 1, 1, 1, 1, 1, 1, 1, 1, 1, 1, 1, 1, 1, 1, 1, 1,\n",
       "       1, 1, 1, 1, 1])"
      ]
     },
     "execution_count": 30,
     "metadata": {},
     "output_type": "execute_result"
    }
   ],
   "source": [
    "loaded_model = load('model.joblib')\n",
    "\n",
    "loaded_model.labels_"
   ]
  },
  {
   "cell_type": "code",
   "execution_count": 24,
   "id": "00e7a9ba",
   "metadata": {},
   "outputs": [
    {
     "data": {
      "text/plain": [
       "array([2, 2, 2, 2, 2, 2, 2, 2, 2, 2, 2, 2, 2, 2, 2, 2, 2, 2, 2, 2, 2, 2,\n",
       "       0, 2, 2, 2, 2, 2, 2, 2, 2, 2, 2, 0, 2, 2, 2, 2, 2, 2, 2, 2, 2, 2,\n",
       "       2, 2, 2, 2, 2, 2, 2, 2, 2, 2, 2, 2, 2, 0, 2, 2, 2, 2, 2, 2, 2, 2,\n",
       "       2, 2, 2, 2, 2, 2, 2, 2, 2])"
      ]
     },
     "execution_count": 24,
     "metadata": {},
     "output_type": "execute_result"
    }
   ],
   "source": [
    "model.labels_[0:75]"
   ]
  },
  {
   "cell_type": "code",
   "execution_count": 36,
   "id": "62b85fd3",
   "metadata": {},
   "outputs": [
    {
     "data": {
      "text/plain": [
       "'Israeli startup to test brain-activity gear on space mission to ISS\\nTEL AVIV, March 28 (Reuters) - Israel\\'s Brain.Space, a four-year-old startup that studies data on brain activity, is set to put its gear to test on astronauts in space next week during a SpaceX shuttle flight to the International Space Station (ISS).\\nThree astronauts on the planned private space-flight firm Axiom Space\\'s mission to the ISS will use a special electroencephalogram (EEG)-enabled helmet made by Brain.Space, the company said on Monday.\\nThe 10-day mission, the first-ever private trip to the space station,will set off on April 3 with four astronauts.\\n\"We actually know that the microgravity environment impacts the physiological indicators in the body. So, it will probably impact the brain and we would like to monitor that,\" Brain.Space Chief Executive Yair Levy told Reuters.\\nData has continuously been collected on heart rate, skin resistance, muscle mass and others in space but not yet on brain activity, he said.\\nBrain.Space joins 30 experiments that will take part in the so-called Rakia Mission to the ISS.\\nThree of the four astronauts -- including Israeli Eytan Stibbe -- will wear the helmet, which has 460 airbrushes that connect to the scalp, and perform a number of tasks for 20 minutes a day, during which data will be uploaded to a laptop on the space station. The tasks include a \"visual oddball\" one that the company says has been effective in detecting abnormal brain dynamics.\\nSimilar studies using these tasks have been completed on Earth and after the mission, Brain.Space will compare the EEG data to see the differences in brain activity between Earth and space.\\nIt noted that such experiments are needed since long-term space exploration and \"off-world living are within grasp.\"\\nBrain.Space, which also said it raised $8.5 million in a seed funding round, bills itself as a brain infrastructure company and is working with the cognitive and brain sciences department at Israel\\'s Ben Gurion University to transform terabytes of data into usable insights.\\nLevy said he hoped the space mission would be a springboard for other institutions, researchers and software developers to use its brain data platform.\\n\"Space is an accelerator. The idea is to revolutionise and make possible brain activity apps, products and services that\\'s as easy as pulling data from an Apple Watch,\" Levy said, pointing to measuring ADHD as an example.'"
      ]
     },
     "execution_count": 36,
     "metadata": {},
     "output_type": "execute_result"
    }
   ],
   "source": [
    "df.Document.iloc[57]"
   ]
  },
  {
   "cell_type": "code",
   "execution_count": null,
   "id": "32cab3ea",
   "metadata": {},
   "outputs": [],
   "source": []
  }
 ],
 "metadata": {
  "kernelspec": {
   "display_name": "Python 3 (ipykernel)",
   "language": "python",
   "name": "python3"
  },
  "language_info": {
   "codemirror_mode": {
    "name": "ipython",
    "version": 3
   },
   "file_extension": ".py",
   "mimetype": "text/x-python",
   "name": "python",
   "nbconvert_exporter": "python",
   "pygments_lexer": "ipython3",
   "version": "3.8.12"
  }
 },
 "nbformat": 4,
 "nbformat_minor": 5
}
